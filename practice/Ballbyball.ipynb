{
 "cells": [
  {
   "cell_type": "markdown",
   "id": "41d47f92",
   "metadata": {},
   "source": [
    "### dataset ball by ball "
   ]
  },
  {
   "cell_type": "code",
   "execution_count": 16,
   "id": "e36591ad",
   "metadata": {},
   "outputs": [
    {
     "data": {
      "text/html": [
       "<div>\n",
       "<style scoped>\n",
       "    .dataframe tbody tr th:only-of-type {\n",
       "        vertical-align: middle;\n",
       "    }\n",
       "\n",
       "    .dataframe tbody tr th {\n",
       "        vertical-align: top;\n",
       "    }\n",
       "\n",
       "    .dataframe thead th {\n",
       "        text-align: right;\n",
       "    }\n",
       "</style>\n",
       "<table border=\"1\" class=\"dataframe\">\n",
       "  <thead>\n",
       "    <tr style=\"text-align: right;\">\n",
       "      <th></th>\n",
       "      <th>match_no</th>\n",
       "      <th>batting_team</th>\n",
       "      <th>batting_side</th>\n",
       "      <th>overs</th>\n",
       "      <th>runs</th>\n",
       "      <th>bowler_to_batsman, runs</th>\n",
       "      <th>commentary</th>\n",
       "    </tr>\n",
       "  </thead>\n",
       "  <tbody>\n",
       "    <tr>\n",
       "      <th>0</th>\n",
       "      <td>1</td>\n",
       "      <td>AFG</td>\n",
       "      <td>2</td>\n",
       "      <td>0.1</td>\n",
       "      <td>1</td>\n",
       "      <td>Madushanka to Hazratullah Zazai, 1 run</td>\n",
       "      <td>nudged down to fine leg for a single</td>\n",
       "    </tr>\n",
       "    <tr>\n",
       "      <th>1</th>\n",
       "      <td>1</td>\n",
       "      <td>AFG</td>\n",
       "      <td>2</td>\n",
       "      <td>0.2</td>\n",
       "      <td>0</td>\n",
       "      <td>Madushanka to Rahmanullah, no run</td>\n",
       "      <td>lovely delivery, Holds its line and beats the ...</td>\n",
       "    </tr>\n",
       "    <tr>\n",
       "      <th>2</th>\n",
       "      <td>1</td>\n",
       "      <td>AFG</td>\n",
       "      <td>2</td>\n",
       "      <td>0.3</td>\n",
       "      <td>1lb</td>\n",
       "      <td>Madushanka to Rahmanullah, 1 leg bye</td>\n",
       "      <td>shaping back into him. He squeezes it thbrough...</td>\n",
       "    </tr>\n",
       "    <tr>\n",
       "      <th>3</th>\n",
       "      <td>1</td>\n",
       "      <td>AFG</td>\n",
       "      <td>2</td>\n",
       "      <td>0.4</td>\n",
       "      <td>0</td>\n",
       "      <td>Madushanka to Hazratullah Zazai, no run</td>\n",
       "      <td>driven to extra cover, where it's well fielded</td>\n",
       "    </tr>\n",
       "    <tr>\n",
       "      <th>4</th>\n",
       "      <td>1</td>\n",
       "      <td>AFG</td>\n",
       "      <td>2</td>\n",
       "      <td>0.5</td>\n",
       "      <td>5w</td>\n",
       "      <td>Madushanka to Hazratullah Zazai, 5 wide</td>\n",
       "      <td>well, that's help. 5 free runs gifted to Afgha...</td>\n",
       "    </tr>\n",
       "  </tbody>\n",
       "</table>\n",
       "</div>"
      ],
      "text/plain": [
       "   match_no batting_team  batting_side  overs runs  \\\n",
       "0         1          AFG             2    0.1    1   \n",
       "1         1          AFG             2    0.2    0   \n",
       "2         1          AFG             2    0.3  1lb   \n",
       "3         1          AFG             2    0.4    0   \n",
       "4         1          AFG             2    0.5   5w   \n",
       "\n",
       "                   bowler_to_batsman, runs  \\\n",
       "0   Madushanka to Hazratullah Zazai, 1 run   \n",
       "1        Madushanka to Rahmanullah, no run   \n",
       "2     Madushanka to Rahmanullah, 1 leg bye   \n",
       "3  Madushanka to Hazratullah Zazai, no run   \n",
       "4  Madushanka to Hazratullah Zazai, 5 wide   \n",
       "\n",
       "                                          commentary  \n",
       "0               nudged down to fine leg for a single  \n",
       "1  lovely delivery, Holds its line and beats the ...  \n",
       "2  shaping back into him. He squeezes it thbrough...  \n",
       "3     driven to extra cover, where it's well fielded  \n",
       "4  well, that's help. 5 free runs gifted to Afgha...  "
      ]
     },
     "execution_count": 16,
     "metadata": {},
     "output_type": "execute_result"
    }
   ],
   "source": [
    "import numpy as np\n",
    "import pandas as pd\n",
    "import matplotlib.pyplot as plt\n",
    "import seaborn as sns\n",
    "df = pd.read_csv('../datasets/ball_by_ball_data_commentary.csv')\n",
    "df.head()"
   ]
  },
  {
   "cell_type": "code",
   "execution_count": 17,
   "id": "13e0e5f3",
   "metadata": {},
   "outputs": [
    {
     "data": {
      "text/plain": [
       "(2651, 7)"
      ]
     },
     "execution_count": 17,
     "metadata": {},
     "output_type": "execute_result"
    }
   ],
   "source": [
    "df.shape"
   ]
  },
  {
   "cell_type": "code",
   "execution_count": 10,
   "id": "a437ee4f",
   "metadata": {},
   "outputs": [
    {
     "data": {
      "text/plain": [
       "Index(['match_no', 'batting_team', 'batting_side', 'overs', 'runs',\n",
       "       'bowler_to_batsman, runs', 'commentary'],\n",
       "      dtype='object')"
      ]
     },
     "execution_count": 10,
     "metadata": {},
     "output_type": "execute_result"
    }
   ],
   "source": [
    "#display all coulmns\n",
    "df.columns"
   ]
  },
  {
   "cell_type": "code",
   "execution_count": 29,
   "id": "0f9d87b3",
   "metadata": {},
   "outputs": [
    {
     "data": {
      "text/plain": [
       "array([ 1,  2,  3,  4,  5,  6,  7,  8,  9, 10, 11, 12, 13], dtype=int64)"
      ]
     },
     "execution_count": 29,
     "metadata": {},
     "output_type": "execute_result"
    }
   ],
   "source": [
    "df['match_no'].unique()"
   ]
  },
  {
   "cell_type": "code",
   "execution_count": 18,
   "id": "72ed33bb",
   "metadata": {},
   "outputs": [
    {
     "name": "stdout",
     "output_type": "stream",
     "text": [
      "<class 'pandas.core.frame.DataFrame'>\n",
      "RangeIndex: 2651 entries, 0 to 2650\n",
      "Data columns (total 7 columns):\n",
      " #   Column                   Non-Null Count  Dtype  \n",
      "---  ------                   --------------  -----  \n",
      " 0   match_no                 2651 non-null   int64  \n",
      " 1   batting_team             2651 non-null   object \n",
      " 2   batting_side             2651 non-null   int64  \n",
      " 3   overs                    2651 non-null   float64\n",
      " 4   runs                     2651 non-null   object \n",
      " 5   bowler_to_batsman, runs  2648 non-null   object \n",
      " 6   commentary               2648 non-null   object \n",
      "dtypes: float64(1), int64(2), object(4)\n",
      "memory usage: 145.1+ KB\n"
     ]
    }
   ],
   "source": [
    "df.info()"
   ]
  },
  {
   "cell_type": "code",
   "execution_count": 19,
   "id": "b81df7b8",
   "metadata": {},
   "outputs": [
    {
     "data": {
      "text/html": [
       "<div>\n",
       "<style scoped>\n",
       "    .dataframe tbody tr th:only-of-type {\n",
       "        vertical-align: middle;\n",
       "    }\n",
       "\n",
       "    .dataframe tbody tr th {\n",
       "        vertical-align: top;\n",
       "    }\n",
       "\n",
       "    .dataframe thead th {\n",
       "        text-align: right;\n",
       "    }\n",
       "</style>\n",
       "<table border=\"1\" class=\"dataframe\">\n",
       "  <thead>\n",
       "    <tr style=\"text-align: right;\">\n",
       "      <th></th>\n",
       "      <th>match_no</th>\n",
       "      <th>batting_side</th>\n",
       "      <th>overs</th>\n",
       "    </tr>\n",
       "  </thead>\n",
       "  <tbody>\n",
       "    <tr>\n",
       "      <th>count</th>\n",
       "      <td>2651.000000</td>\n",
       "      <td>2651.000000</td>\n",
       "      <td>2651.000000</td>\n",
       "    </tr>\n",
       "    <tr>\n",
       "      <th>mean</th>\n",
       "      <td>7.016598</td>\n",
       "      <td>1.471520</td>\n",
       "      <td>9.945832</td>\n",
       "    </tr>\n",
       "    <tr>\n",
       "      <th>std</th>\n",
       "      <td>3.758325</td>\n",
       "      <td>0.499282</td>\n",
       "      <td>5.802623</td>\n",
       "    </tr>\n",
       "    <tr>\n",
       "      <th>min</th>\n",
       "      <td>1.000000</td>\n",
       "      <td>1.000000</td>\n",
       "      <td>0.100000</td>\n",
       "    </tr>\n",
       "    <tr>\n",
       "      <th>25%</th>\n",
       "      <td>3.000000</td>\n",
       "      <td>1.000000</td>\n",
       "      <td>5.100000</td>\n",
       "    </tr>\n",
       "    <tr>\n",
       "      <th>50%</th>\n",
       "      <td>7.000000</td>\n",
       "      <td>1.000000</td>\n",
       "      <td>10.100000</td>\n",
       "    </tr>\n",
       "    <tr>\n",
       "      <th>75%</th>\n",
       "      <td>10.000000</td>\n",
       "      <td>2.000000</td>\n",
       "      <td>15.200000</td>\n",
       "    </tr>\n",
       "    <tr>\n",
       "      <th>max</th>\n",
       "      <td>13.000000</td>\n",
       "      <td>2.000000</td>\n",
       "      <td>19.600000</td>\n",
       "    </tr>\n",
       "  </tbody>\n",
       "</table>\n",
       "</div>"
      ],
      "text/plain": [
       "          match_no  batting_side        overs\n",
       "count  2651.000000   2651.000000  2651.000000\n",
       "mean      7.016598      1.471520     9.945832\n",
       "std       3.758325      0.499282     5.802623\n",
       "min       1.000000      1.000000     0.100000\n",
       "25%       3.000000      1.000000     5.100000\n",
       "50%       7.000000      1.000000    10.100000\n",
       "75%      10.000000      2.000000    15.200000\n",
       "max      13.000000      2.000000    19.600000"
      ]
     },
     "execution_count": 19,
     "metadata": {},
     "output_type": "execute_result"
    }
   ],
   "source": [
    "df.describe()"
   ]
  },
  {
   "cell_type": "code",
   "execution_count": 23,
   "id": "e5bbf9d0",
   "metadata": {},
   "outputs": [
    {
     "data": {
      "text/plain": [
       "0"
      ]
     },
     "execution_count": 23,
     "metadata": {},
     "output_type": "execute_result"
    }
   ],
   "source": [
    "df.duplicated().sum()"
   ]
  },
  {
   "cell_type": "code",
   "execution_count": 25,
   "id": "e6f93ac1",
   "metadata": {},
   "outputs": [
    {
     "data": {
      "text/plain": [
       "match_no                   0\n",
       "batting_team               0\n",
       "batting_side               0\n",
       "overs                      0\n",
       "runs                       0\n",
       "bowler_to_batsman, runs    3\n",
       "commentary                 3\n",
       "dtype: int64"
      ]
     },
     "execution_count": 25,
     "metadata": {},
     "output_type": "execute_result"
    }
   ],
   "source": [
    "#null values\n",
    "df.isnull().sum()"
   ]
  },
  {
   "cell_type": "code",
   "execution_count": 27,
   "id": "2dee01fe",
   "metadata": {},
   "outputs": [
    {
     "data": {
      "text/plain": [
       "match_no                   0\n",
       "batting_team               0\n",
       "batting_side               0\n",
       "overs                      0\n",
       "runs                       0\n",
       "bowler_to_batsman, runs    3\n",
       "commentary                 3\n",
       "dtype: int64"
      ]
     },
     "execution_count": 27,
     "metadata": {},
     "output_type": "execute_result"
    }
   ],
   "source": [
    "#na \n",
    "df.isna().sum()"
   ]
  },
  {
   "cell_type": "code",
   "execution_count": 32,
   "id": "f4539dfe",
   "metadata": {},
   "outputs": [
    {
     "data": {
      "text/plain": [
       "<AxesSubplot:>"
      ]
     },
     "execution_count": 32,
     "metadata": {},
     "output_type": "execute_result"
    },
    {
     "data": {
      "image/png": "[encoded data removed]",
      "text/plain": [
       "<Figure size 432x288 with 1 Axes>"
      ]
     },
     "metadata": {
      "needs_background": "light"
     },
     "output_type": "display_data"
    }
   ],
   "source": [
    "df[['match_no']].boxplot()"
   ]
  },
  {
   "cell_type": "code",
   "execution_count": 34,
   "id": "fc11d659",
   "metadata": {},
   "outputs": [
    {
     "data": {
      "text/plain": [
       "<AxesSubplot:>"
      ]
     },
     "execution_count": 34,
     "metadata": {},
     "output_type": "execute_result"
    },
    {
     "data": {
      "image/png": "[encoded data removed]",
      "text/plain": [
       "<Figure size 432x288 with 1 Axes>"
      ]
     },
     "metadata": {
      "needs_background": "light"
     },
     "output_type": "display_data"
    }
   ],
   "source": [
    "df[['batting_side']].boxplot()"
   ]
  },
  {
   "cell_type": "code",
   "execution_count": 35,
   "id": "4aaa1bdc",
   "metadata": {},
   "outputs": [
    {
     "data": {
      "text/plain": [
       "<AxesSubplot:>"
      ]
     },
     "execution_count": 35,
     "metadata": {},
     "output_type": "execute_result"
    },
    {
     "data": {
      "image/png": "[encoded data removed]",
      "text/plain": [
       "<Figure size 432x288 with 1 Axes>"
      ]
     },
     "metadata": {
      "needs_background": "light"
     },
     "output_type": "display_data"
    }
   ],
   "source": [
    "df[['overs']].boxplot()"
   ]
  },
  {
   "cell_type": "code",
   "execution_count": null,
   "id": "17d0f9a5",
   "metadata": {},
   "outputs": [],
   "source": []
  }
 ],
 "metadata": {
  "kernelspec": {
   "display_name": "Python 3 (ipykernel)",
   "language": "python",
   "name": "python3"
  },
  "language_info": {
   "codemirror_mode": {
    "name": "ipython",
    "version": 3
   },
   "file_extension": ".py",
   "mimetype": "text/x-python",
   "name": "python",
   "nbconvert_exporter": "python",
   "pygments_lexer": "ipython3",
   "version": "3.9.12"
  }
 },
 "nbformat": 4,
 "nbformat_minor": 5
}
