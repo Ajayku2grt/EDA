{
 "cells": [
  {
<<<<<<< HEAD
   "cell_type": "code",
   "execution_count": null,
   "id": "e7d1edfd",
   "metadata": {},
   "outputs": [],
   "source": [
    "import seaborn as sns\n",
    "import numpy as np\n",
    "import pandas as np\n",
    "import matplotlib.pyplot as plt\n"
=======
   "cell_type": "markdown",
   "id": "38b05e45",
   "metadata": {},
   "source": [
    "## Seaborn "
   ]
  },
  {
   "cell_type": "code",
   "execution_count": 1,
   "id": "fd160707",
   "metadata": {},
   "outputs": [],
   "source": [
    "import pandas as pd\n",
    "import numpy as np\n",
    "import matplotlib.pyplot as plt\n",
    "import seaborn as sns"
   ]
  },
  {
   "cell_type": "code",
   "execution_count": 2,
   "id": "d5736d3d",
   "metadata": {},
   "outputs": [
    {
     "data": {
      "text/html": [
       "<div>\n",
       "<style scoped>\n",
       "    .dataframe tbody tr th:only-of-type {\n",
       "        vertical-align: middle;\n",
       "    }\n",
       "\n",
       "    .dataframe tbody tr th {\n",
       "        vertical-align: top;\n",
       "    }\n",
       "\n",
       "    .dataframe thead th {\n",
       "        text-align: right;\n",
       "    }\n",
       "</style>\n",
       "<table border=\"1\" class=\"dataframe\">\n",
       "  <thead>\n",
       "    <tr style=\"text-align: right;\">\n",
       "      <th></th>\n",
       "      <th>Rollno</th>\n",
       "      <th>Marks</th>\n",
       "    </tr>\n",
       "  </thead>\n",
       "  <tbody>\n",
       "    <tr>\n",
       "      <th>0</th>\n",
       "      <td>1</td>\n",
       "      <td>23</td>\n",
       "    </tr>\n",
       "    <tr>\n",
       "      <th>1</th>\n",
       "      <td>2</td>\n",
       "      <td>45</td>\n",
       "    </tr>\n",
       "    <tr>\n",
       "      <th>2</th>\n",
       "      <td>3</td>\n",
       "      <td>67</td>\n",
       "    </tr>\n",
       "    <tr>\n",
       "      <th>3</th>\n",
       "      <td>4</td>\n",
       "      <td>89</td>\n",
       "    </tr>\n",
       "    <tr>\n",
       "      <th>4</th>\n",
       "      <td>5</td>\n",
       "      <td>56</td>\n",
       "    </tr>\n",
       "    <tr>\n",
       "      <th>5</th>\n",
       "      <td>6</td>\n",
       "      <td>34</td>\n",
       "    </tr>\n",
       "    <tr>\n",
       "      <th>6</th>\n",
       "      <td>7</td>\n",
       "      <td>21</td>\n",
       "    </tr>\n",
       "    <tr>\n",
       "      <th>7</th>\n",
       "      <td>8</td>\n",
       "      <td>45</td>\n",
       "    </tr>\n",
       "    <tr>\n",
       "      <th>8</th>\n",
       "      <td>9</td>\n",
       "      <td>67</td>\n",
       "    </tr>\n",
       "    <tr>\n",
       "      <th>9</th>\n",
       "      <td>10</td>\n",
       "      <td>32</td>\n",
       "    </tr>\n",
       "    <tr>\n",
       "      <th>10</th>\n",
       "      <td>11</td>\n",
       "      <td>67</td>\n",
       "    </tr>\n",
       "    <tr>\n",
       "      <th>11</th>\n",
       "      <td>12</td>\n",
       "      <td>76</td>\n",
       "    </tr>\n",
       "    <tr>\n",
       "      <th>12</th>\n",
       "      <td>13</td>\n",
       "      <td>33</td>\n",
       "    </tr>\n",
       "    <tr>\n",
       "      <th>13</th>\n",
       "      <td>14</td>\n",
       "      <td>21</td>\n",
       "    </tr>\n",
       "    <tr>\n",
       "      <th>14</th>\n",
       "      <td>15</td>\n",
       "      <td>45</td>\n",
       "    </tr>\n",
       "  </tbody>\n",
       "</table>\n",
       "</div>"
      ],
      "text/plain": [
       "    Rollno  Marks\n",
       "0        1     23\n",
       "1        2     45\n",
       "2        3     67\n",
       "3        4     89\n",
       "4        5     56\n",
       "5        6     34\n",
       "6        7     21\n",
       "7        8     45\n",
       "8        9     67\n",
       "9       10     32\n",
       "10      11     67\n",
       "11      12     76\n",
       "12      13     33\n",
       "13      14     21\n",
       "14      15     45"
      ]
     },
     "execution_count": 2,
     "metadata": {},
     "output_type": "execute_result"
    }
   ],
   "source": [
    "roll_no = [1,2,3,4,5,6,7,8,9,10,11,12,13,14,15]\n",
    "marks = [23,45,67,89,56,34,21,45,67,32,67,76,33,21,45]\n",
    "sample_df = pd.DataFrame({'Rollno' : roll_no, 'Marks':marks}) #create dataframe usingh dictionary\n",
    "sample_df"
   ]
  },
  {
   "cell_type": "code",
   "execution_count": 4,
   "id": "9d10cd79",
   "metadata": {},
   "outputs": [
    {
     "data": {
      "text/plain": [
       "Text(0.5, 1.0, 'Student marks')"
      ]
     },
     "execution_count": 4,
     "metadata": {},
     "output_type": "execute_result"
    },
    {
     "data": {
      "image/png": "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\n",
      "text/plain": [
       "<Figure size 432x288 with 1 Axes>"
      ]
     },
     "metadata": {
      "needs_background": "light"
     },
     "output_type": "display_data"
    }
   ],
   "source": [
    "sns.lineplot(x = 'Rollno', y =\"Marks\", data=sample_df)\n",
    "plt.title('Student marks')"
>>>>>>> d1ed6753de45d57d788b6e7619e2ac59efe3f84d
   ]
  },
  {
   "cell_type": "code",
   "execution_count": null,
<<<<<<< HEAD
   "id": "822d2253",
=======
   "id": "8db94bcc",
>>>>>>> d1ed6753de45d57d788b6e7619e2ac59efe3f84d
   "metadata": {},
   "outputs": [],
   "source": []
  }
 ],
 "metadata": {
  "kernelspec": {
   "display_name": "Python 3 (ipykernel)",
   "language": "python",
   "name": "python3"
  },
  "language_info": {
   "codemirror_mode": {
    "name": "ipython",
    "version": 3
   },
   "file_extension": ".py",
   "mimetype": "text/x-python",
   "name": "python",
   "nbconvert_exporter": "python",
   "pygments_lexer": "ipython3",
   "version": "3.9.12"
  }
 },
 "nbformat": 4,
 "nbformat_minor": 5
}
